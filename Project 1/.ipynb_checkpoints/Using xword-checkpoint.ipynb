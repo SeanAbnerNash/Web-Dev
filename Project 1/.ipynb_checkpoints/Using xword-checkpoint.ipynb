{
 "cells": [
  {
   "cell_type": "code",
   "execution_count": 51,
   "metadata": {
    "scrolled": false
   },
   "outputs": [
    {
     "name": "stdout",
     "output_type": "stream",
     "text": [
      "abigail\n"
     ]
    }
   ],
   "source": [
    "import xword\n",
    "import random\n",
    "import time\n",
    "from collections import Counter\n",
    "\n",
    "with open (\"Words.txt\", \"r\") as myfile:\n",
    "    data=myfile.read()\n",
    "    data=data.split(\"\\n\");\n",
    "\n",
    "randomWord = random.choice(xword.suggest('-------'));\n",
    "\n",
    "print(randomWord);"
   ]
  },
  {
   "cell_type": "code",
   "execution_count": 97,
   "metadata": {},
   "outputs": [
    {
     "name": "stdout",
     "output_type": "stream",
     "text": [
      "['sail', 'abigail', 'eail', '4ail', '5ail']\n"
     ]
    },
    {
     "data": {
      "text/plain": [
       "5"
      ]
     },
     "execution_count": 97,
     "metadata": {},
     "output_type": "execute_result"
    }
   ],
   "source": [
    "import time\n",
    "start =0;\n",
    "\n",
    "start = time.time()\n",
    "\n",
    "playerWords = \"sail abigail eail 4ail 5ail\"\n",
    "playerWords = playerWords.lower();\n",
    "playerWords = playerWords.split(\" \");\n",
    "print(playerWords)\n",
    "len(playerWords)"
   ]
  },
  {
   "cell_type": "code",
   "execution_count": 98,
   "metadata": {},
   "outputs": [
    {
     "name": "stdout",
     "output_type": "stream",
     "text": [
      "True\n",
      "False\n",
      "Word is Not Contained\n",
      "Word is contained\n",
      "Word is Not Contained\n",
      "Word is Not Contained\n",
      "Word is Not Contained\n",
      "False\n",
      "False\n",
      "THIS IS THE SOURCE  abigail\n",
      "False\n"
     ]
    }
   ],
   "source": [
    "end =0;\n",
    "end = time.time()\n",
    "\n",
    "clearedTests = True;\n",
    "\n",
    "        #this tests for Word Length\n",
    "testString = \"orE\"\n",
    "for givenWord in playerWords:\n",
    "    if len(givenWord) < 3:\n",
    "        print(\"THIS \", givenWord, \" is too short\")\n",
    "        clearedTests = False;\n",
    "        \n",
    "        \n",
    "print(clearedTests)\n",
    "\n",
    "#this checks if the words exist\n",
    "if clearedTests:\n",
    "    clearedTests = False;\n",
    "    if all(x in data for x in playerWords):\n",
    "        clearedTests = True; \n",
    "        print(\"ALL CORRECT\")\n",
    "\n",
    "            \n",
    "print(clearedTests)\n",
    "\n",
    "#this tests for the letter frequency\n",
    "for givenWord in playerWords:\n",
    "    bag = Counter(randomWord)\n",
    "    bag.subtract(Counter(givenWord))\n",
    "    if all(v >= 0 for v in bag.values()):\n",
    "        print ('Word is contained')\n",
    "    if any(v < 0 for v in bag.values()):\n",
    "        print('Word is Not Contained')\n",
    "        clearedTests = False;\n",
    "        \n",
    "print(clearedTests)\n",
    "\n",
    "#tests for duplicates\n",
    "\n",
    "if any(playerWords.count(x) > 1 for x in playerWords):\n",
    "       clearedTests = False;\n",
    "       print(\"DUPES DETECTED\")\n",
    "       \n",
    "       \n",
    "print(clearedTests)\n",
    "\n",
    "#tests for random Word generated\n",
    "for givenWord in playerWords:\n",
    "    if givenWord == randomWord:\n",
    "        print(\"THIS IS THE SOURCE \", givenWord)\n",
    "        clearedTests = False;\n",
    "\n",
    "\n",
    "print(clearedTests)\n",
    "\n"
   ]
  },
  {
   "cell_type": "code",
   "execution_count": 99,
   "metadata": {},
   "outputs": [
    {
     "name": "stdout",
     "output_type": "stream",
     "text": [
      "1.1\n"
     ]
    }
   ],
   "source": [
    "letters = 'dnaeeli'\n",
    "words = 'line', 'linda', 'need', 'den', 'x'\n",
    "\n",
    "for word in words:\n",
    "    if not Counter(word) - Counter(letters):\n",
    "        Counter(word) - Counter(letters)      \n",
    "        \n",
    "print(round(end - start,2))"
   ]
  },
  {
   "cell_type": "code",
   "execution_count": 80,
   "metadata": {},
   "outputs": [
    {
     "name": "stdout",
     "output_type": "stream",
     "text": [
      "Word is contained\n"
     ]
    }
   ],
   "source": [
    "\n",
    "\n",
    "\n",
    "            "
   ]
  },
  {
   "cell_type": "code",
   "execution_count": 4,
   "metadata": {},
   "outputs": [],
   "source": [
    "def hasNumbers(inputString):\n",
    "    return any(char.isdigit() for char in inputString)\n",
    "\n",
    "if hasNumbers(playerWords):\n",
    "    print(\"ASASASA\")\n"
   ]
  },
  {
   "cell_type": "code",
   "execution_count": 5,
   "metadata": {},
   "outputs": [
    {
     "name": "stdout",
     "output_type": "stream",
     "text": [
      "ASAS\n"
     ]
    }
   ],
   "source": [
    "my_string=\"ASdsad\"\n",
    "my_string.isdigit()\n",
    "if my_string.isdigit() == False: \n",
    "    print(\"ASAS\")\n",
    "    \n",
    "\n"
   ]
  },
  {
   "cell_type": "code",
   "execution_count": null,
   "metadata": {},
   "outputs": [],
   "source": [
    "str(input(\"Enter a name: \"))"
   ]
  },
  {
   "cell_type": "code",
   "execution_count": null,
   "metadata": {},
   "outputs": [],
   "source": []
  },
  {
   "cell_type": "code",
   "execution_count": 6,
   "metadata": {},
   "outputs": [],
   "source": [
    "l1 = [\"fish\", \"boat\", \"oar\"]\n",
    "l2 = [\"rod\", \"gunwale\", \"fish\", \"net\"]\n",
    "l3 = [\"net\", \"fish\", \"weight\"] \n",
    "\n",
    "\n",
    "\n",
    "for w in randomWord:\n",
    "  if w in data:\n",
    "    print ('found ',w,' in Data!')\n",
    "    "
   ]
  },
  {
   "cell_type": "code",
   "execution_count": null,
   "metadata": {},
   "outputs": [],
   "source": []
  },
  {
   "cell_type": "code",
   "execution_count": null,
   "metadata": {},
   "outputs": [],
   "source": []
  },
  {
   "cell_type": "code",
   "execution_count": null,
   "metadata": {},
   "outputs": [],
   "source": []
  },
  {
   "cell_type": "code",
   "execution_count": null,
   "metadata": {},
   "outputs": [],
   "source": []
  },
  {
   "cell_type": "code",
   "execution_count": null,
   "metadata": {},
   "outputs": [],
   "source": []
  },
  {
   "cell_type": "code",
   "execution_count": null,
   "metadata": {},
   "outputs": [],
   "source": []
  }
 ],
 "metadata": {
  "kernelspec": {
   "display_name": "Python 3",
   "language": "python",
   "name": "python3"
  },
  "language_info": {
   "codemirror_mode": {
    "name": "ipython",
    "version": 3
   },
   "file_extension": ".py",
   "mimetype": "text/x-python",
   "name": "python",
   "nbconvert_exporter": "python",
   "pygments_lexer": "ipython3",
   "version": "3.7.0"
  }
 },
 "nbformat": 4,
 "nbformat_minor": 2
}
